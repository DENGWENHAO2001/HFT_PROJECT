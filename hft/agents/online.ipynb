{
 "cells": [
  {
   "cell_type": "code",
   "execution_count": null,
   "metadata": {},
   "outputs": [],
   "source": [
    "import pandas as pd\n",
    "import numpy as np\n",
    "import torch\n",
    "import torch.nn as nn\n",
    "import torch.nn.functional as F"
   ]
  },
  {
   "attachments": {},
   "cell_type": "markdown",
   "metadata": {},
   "source": [
    "Here are the basic description of the model, basic parameters of the coffient and the logic of trading.\n",
    "\n",
    "The action space is {0,1,2,3,4,5,6,7,8,9,10} corresponding to the position of holding {0,0.001,0.002,0.003,0.004,0.005,0.006,0.007,0.008,0.009,0.01} btc.\n",
    "\n",
    "The input of model are 3 fold:market information, current position(previous action) P_p and avaliable trading options.\n",
    "\n",
    "The output of mdoel are 11 classifications of action.\n",
    "\n",
    "We choose the classification with the highest value and the corresponding position should be made by taking order P_c.\n",
    "\n",
    "The order we take is market order and volume should be o_s=P_c-P_p (range from -0.01 to 0.01)\n",
    "\n",
    "If o_s>0, then we buy o_s btc,if o_s=0, we hold and do not place any order and if o_s<0, we sell -o_s btc."
   ]
  },
  {
   "cell_type": "code",
   "execution_count": null,
   "metadata": {},
   "outputs": [],
   "source": [
    "action_dim=11\n",
    "max_punish=1e12"
   ]
  },
  {
   "attachments": {},
   "cell_type": "markdown",
   "metadata": {},
   "source": [
    "The network of our model"
   ]
  },
  {
   "cell_type": "code",
   "execution_count": null,
   "metadata": {},
   "outputs": [],
   "source": [
    "class masked_net1(nn.Module):\n",
    "    def __init__(self, N_STATES, N_ACTIONS, hidden_nodes):\n",
    "        super(masked_net1, self).__init__()\n",
    "        self.fc1 = nn.Linear(N_STATES, hidden_nodes)\n",
    "        self.fc2 = nn.Linear(2 * hidden_nodes, hidden_nodes)\n",
    "        self.out = nn.Linear(hidden_nodes, N_ACTIONS)\n",
    "        self.embedding = nn.Embedding(N_ACTIONS, hidden_nodes)\n",
    "        self.register_buffer(\"max_punish\", torch.tensor(max_punish))\n",
    "        self.init_weights()\n",
    "\n",
    "    def forward(\n",
    "        self,\n",
    "        state: torch.tensor,\n",
    "        previous_action: torch.tensor,\n",
    "        avaliable_action: torch.tensor,\n",
    "    ):\n",
    "        state_hidden = F.relu(self.fc1(state))\n",
    "        previous_action_hidden = self.embedding(previous_action)\n",
    "        information_hidden = torch.cat([state_hidden, previous_action_hidden],\n",
    "                                       dim=1)\n",
    "        information_hidden = self.fc2(information_hidden)\n",
    "        action = self.out(information_hidden)\n",
    "        masked_action = action + (avaliable_action - 1) * self.max_punish\n",
    "        return masked_action\n",
    "\n",
    "    def init_weights(self):\n",
    "        for _, module in self.named_modules():\n",
    "            if isinstance(module, nn.Linear):\n",
    "                torch.nn.init.kaiming_uniform_(module.weight)\n",
    "                module.bias.data.zero_()\n",
    "\n",
    "\n",
    "net = masked_net1(66, 11, 128)\n",
    "net.load_state_dict(torch.load(\"trained_model.pkl\"))"
   ]
  },
  {
   "attachments": {},
   "cell_type": "markdown",
   "metadata": {},
   "source": [
    "input of the model"
   ]
  },
  {
   "cell_type": "code",
   "execution_count": null,
   "metadata": {},
   "outputs": [
    {
     "ename": "NameError",
     "evalue": "name 'torch' is not defined",
     "output_type": "error",
     "traceback": [
      "\u001B[0;31m---------------------------------------------------------------------------\u001B[0m",
      "\u001B[0;31mNameError\u001B[0m                                 Traceback (most recent call last)",
      "Cell \u001B[0;32mIn[1], line 1\u001B[0m\n\u001B[0;32m----> 1\u001B[0m market_state \u001B[38;5;241m=\u001B[39m \u001B[43mtorch\u001B[49m\u001B[38;5;241m.\u001B[39mrandn(\u001B[38;5;241m1\u001B[39m, \u001B[38;5;241m66\u001B[39m)\n\u001B[1;32m      2\u001B[0m previous_action \u001B[38;5;241m=\u001B[39m (torch\u001B[38;5;241m.\u001B[39mdistributions\u001B[38;5;241m.\u001B[39mBinomial(\u001B[38;5;241m10\u001B[39m, torch\u001B[38;5;241m.\u001B[39mtensor(\n\u001B[1;32m      3\u001B[0m         [\u001B[38;5;241m0.5\u001B[39m] \u001B[38;5;241m*\u001B[39m \u001B[38;5;241m1\u001B[39m))\u001B[38;5;241m.\u001B[39msample()\u001B[38;5;241m.\u001B[39mlong())\n\u001B[1;32m      4\u001B[0m avaliable_action \u001B[38;5;241m=\u001B[39m torch\u001B[38;5;241m.\u001B[39mbernoulli(torch\u001B[38;5;241m.\u001B[39mTensor(\u001B[38;5;241m1\u001B[39m, \u001B[38;5;241m11\u001B[39m)\u001B[38;5;241m.\u001B[39muniform_(\u001B[38;5;241m0\u001B[39m, \u001B[38;5;241m1\u001B[39m))\n",
      "\u001B[0;31mNameError\u001B[0m: name 'torch' is not defined"
     ]
    }
   ],
   "source": [
    "market_state = torch.randn(1, 66)\n",
    "previous_action = (torch.distributions.Binomial(10, torch.tensor(\n",
    "        [0.5] * 1)).sample().long())\n",
    "avaliable_action = torch.bernoulli(torch.Tensor(1, 11).uniform_(0, 1))"
   ]
  },
  {
   "cell_type": "code",
   "execution_count": null,
   "metadata": {},
   "outputs": [],
   "source": [
    "print(market_state.type())\n",
    "print(market_state.shape)"
   ]
  },
  {
   "cell_type": "code",
   "execution_count": null,
   "metadata": {},
   "outputs": [],
   "source": [
    "print(previous_action.type())\n",
    "print(previous_action.shape)"
   ]
  },
  {
   "cell_type": "code",
   "execution_count": null,
   "metadata": {},
   "outputs": [],
   "source": [
    "print(avaliable_action.type() )\n",
    "print(avaliable_action.shape)"
   ]
  },
  {
   "cell_type": "code",
   "execution_count": null,
   "metadata": {},
   "outputs": [],
   "source": [
    "output_action = net(market_state, previous_action, avaliable_action).argmax(dim=1,\n",
    "                                                             keepdim=True)\n",
    "output_action "
   ]
  },
  {
   "cell_type": "code",
   "execution_count": null,
   "metadata": {},
   "outputs": [],
   "source": [
    "os=((output_action-previous_action)*0.01).squeeze().numpy()\n",
    "os# the os mention before"
   ]
  }
 ],
 "metadata": {
  "kernelspec": {
   "display_name": "HFT",
   "language": "python",
   "name": "python3"
  },
  "language_info": {
   "codemirror_mode": {
    "name": "ipython",
    "version": 3
   },
   "file_extension": ".py",
   "mimetype": "text/x-python",
   "name": "python",
   "nbconvert_exporter": "python",
   "pygments_lexer": "ipython3",
   "version": "3.7.15"
  },
  "orig_nbformat": 4,
  "vscode": {
   "interpreter": {
    "hash": "c33605b009166d65f90ad63d824c8e63d22d0973c031452c4b4158e2872c99ad"
   }
  }
 },
 "nbformat": 4,
 "nbformat_minor": 2
}
